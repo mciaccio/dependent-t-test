{
 "cells": [
  {
   "cell_type": "markdown",
   "metadata": {},
   "source": [
    "### Analyzing the Stroop Effect\n",
    "Perform the analysis in the space below. Remember to follow [the instructions](https://docs.google.com/document/d/1-OkpZLjG_kX9J6LIQ5IltsqMzVWjh36QpnP2RYpVdPU/pub?embedded=True) and review the [project rubric](https://review.udacity.com/#!/rubrics/71/view) before submitting. Once you've completed the analysis and write-up, download this file as a PDF or HTML file, upload that PDF/HTML into the workspace here (click on the orange Jupyter icon in the upper left then Upload), then use the Submit Project button at the bottom of this page. This will create a zip file containing both this .ipynb doc and the PDF/HTML doc that will be submitted for your project.\n",
    "\n",
    "\n",
    "(1) What is the independent variable? What is the dependent variable?"
   ]
  },
  {
   "cell_type": "markdown",
   "metadata": {},
   "source": [
    "&nbsp;&nbsp;&nbsp;&nbsp;&nbsp;&nbsp;The independent variable is -  word and color match: congruent example - <span style=\"color:blue\">blue</span>, incongruent example - <span style=\"color:red\">blue</span>  \n",
    "&nbsp;&nbsp;&nbsp;&nbsp;&nbsp;&nbsp;The dependent variable is&nbsp;&nbsp;&nbsp; - population mean response time"
   ]
  },
  {
   "cell_type": "markdown",
   "metadata": {},
   "source": [
    "(2) What is an appropriate set of hypotheses for this task? Specify your null and alternative hypotheses, and clearly define any notation used. Justify your choices."
   ]
  },
  {
   "cell_type": "markdown",
   "metadata": {},
   "source": [
    "μ<sub>c</sub> - congruent population mean response time  \n",
    "μ<sub>i</sub> - incongruent population mean response time  \n",
    "\n",
    "H<sub>0</sub> : μ<sub>c</sub>- μ<sub>i</sub> $\\geq$ 0&nbsp;- null hypothesis - incongruent population mean response time is not statistically significantly longer  \n",
    "H<sub>1</sub> : μ<sub>c</sub>- μ<sub>i</sub> $\\lt$ 0 - alternative hypothesis - incongruent population mean response time is statistically significantly longer"
   ]
  },
  {
   "cell_type": "markdown",
   "metadata": {},
   "source": [
    "(3) Report some descriptive statistics regarding this dataset. Include at least one measure of central tendency and at least one measure of variability. The name of the data file is 'stroopdata.csv'."
   ]
  },
  {
   "cell_type": "code",
   "execution_count": 9,
   "metadata": {},
   "outputs": [
    {
     "name": "stdout",
     "output_type": "stream",
     "text": [
      "\n",
      "sys.version - 3.6.3 |Anaconda custom (64-bit)| (default, Oct  6 2017, 12:04:38) \n",
      "[GCC 4.2.1 Compatible Clang 4.0.1 (tags/RELEASE_401/final)]\n",
      "platform.python_version() - 3.6.3\n",
      "pd.__version__ - 0.20.3\n",
      "\n",
      "type(stroopData).__name__ - DataFrame\n",
      "type(stroopData) = <class 'pandas.core.frame.DataFrame'>\n",
      "\n",
      "type(stroopData['Congruent']).__name__ - Series\n",
      "type(stroopData['Congruent']) = <class 'pandas.core.series.Series'>\n",
      "\n",
      "stroopData['Congruent'].mean() - 14.051125000000004\n",
      "stroopData['Incongruent'].mean() - 22.01591666666667\n",
      "stroopData['Congruent'].median() - 14.3565\n",
      "stroopData['Incongruent'].median() - 21.0175\n",
      "\n",
      "stroopData['Congruent'].std()\n",
      "3.559357957645195\n",
      "\n",
      "stroopData['Incongruent'].std()\n",
      "4.797057122469138\n",
      "\n"
     ]
    }
   ],
   "source": [
    "# Perform the analysis here\n",
    "import os\n",
    "import sys\n",
    "import platform\n",
    "from scipy.stats import mode\n",
    "import csv\n",
    "import pandas as pd\n",
    "import math\n",
    " \n",
    "# local environment information \n",
    "print(\"\\nsys.version - {}\".format(sys.version))\n",
    "print(\"platform.python_version() - {}\".format(platform.python_version()))\n",
    "print(\"pd.__version__ - {}\\n\".format(pd.__version__))\n",
    "\n",
    "# get the data\n",
    "DATADIR = '/Users/menfisystems/Documents/mike/Term2DAND/percepPhenom'  \n",
    "DATAFILE = 'stroopdata.csv'\n",
    "stroop_data_csv  = os.path.join(DATADIR, DATAFILE)\n",
    "\n",
    "# used during software developement\n",
    "with open(stroop_data_csv, newline='') as csvfile:\n",
    "    myFile = csv.reader(csvfile)\n",
    "    for row in myFile:\n",
    "        # print(row) \n",
    "        pass\n",
    "# used during software developement\n",
    "\n",
    "stroopData = pd.read_csv(stroop_data_csv)\n",
    "# DataFrame\n",
    "print(\"type(stroopData).__name__ - {}\".format(type(stroopData).__name__))\n",
    "print('type(stroopData) = {}\\n'.format(type(stroopData)))\n",
    "\n",
    "# Series\n",
    "print(\"type(stroopData['Congruent']).__name__ - {}\".format(type(stroopData['Congruent']).__name__))\n",
    "print(\"type(stroopData['Congruent']) = {}\\n\".format(type(stroopData['Congruent'])))\n",
    "\n",
    "# central tendency \n",
    "print(\"stroopData['Congruent'].mean() - {}\".format(stroopData['Congruent'].mean()))\n",
    "print(\"stroopData['Incongruent'].mean() - {}\".format(stroopData['Incongruent'].mean()))\n",
    "\n",
    "# central tendency\n",
    "print(\"stroopData['Congruent'].median() - {}\".format(stroopData['Congruent'].median()))\n",
    "print(\"stroopData['Incongruent'].median() - {}\\n\".format(stroopData['Incongruent'].median()))\n",
    "\n",
    "# central tendency\n",
    "# DataFrame frame, series mode not applicable, all series values occur only once\n",
    "# print(\"stroopData.mode() - {}\".format(\"stroopData.mode()\"))\n",
    "# print(stroopData.mode())\n",
    "\n",
    "# variability\n",
    "print(\"stroopData['Congruent'].std()\")\n",
    "print(stroopData['Congruent'].std())\n",
    "print()\n",
    "\n",
    "# variability\n",
    "print(\"stroopData['Incongruent'].std()\")\n",
    "print(stroopData['Incongruent'].std())\n",
    "print()\n",
    " "
   ]
  },
  {
   "cell_type": "markdown",
   "metadata": {},
   "source": [
    "Include at least one measure of central tendency ...  \n",
    "&nbsp;&nbsp;&nbsp;&nbsp;&nbsp;&nbsp;stroopData['Congruent'].mean() - 14.051125000000004  \n",
    "&nbsp;&nbsp;&nbsp;&nbsp;&nbsp;&nbsp;stroopData['Incongruent'].mean() - 22.01591666666667  \n",
    "  \n",
    "&nbsp;&nbsp;&nbsp;&nbsp;&nbsp;&nbsp;stroopData['Congruent'].median() - 14.3565  \n",
    "&nbsp;&nbsp;&nbsp;&nbsp;&nbsp;&nbsp;stroopData['Incongruent'].median() - 21.0175\n",
    "\n",
    "&nbsp; &nbsp; &nbsp; DataFrame frame, series mode not applicable, all series values occur only once.  \n",
    "\n",
    "Variability  \n",
    "&nbsp; &nbsp; &nbsp; stroopData['Congruent'].std()\n",
    "&nbsp; &nbsp; &nbsp; 3.559357957645195  \n",
    "&nbsp; &nbsp; &nbsp; stroopData['Incongruent'].std()\n",
    "&nbsp; &nbsp; &nbsp; 4.797057122469138  \n",
    "<br>  "
   ]
  },
  {
   "cell_type": "markdown",
   "metadata": {},
   "source": [
    "(4) Provide one or two visualizations that show the distribution of the sample data. Write one or two sentences noting what you observe about the plot or plots."
   ]
  },
  {
   "cell_type": "code",
   "execution_count": 14,
   "metadata": {
    "scrolled": false
   },
   "outputs": [
    {
     "data": {
      "image/png": "[encoded data removed]",
      "text/plain": [
       "<matplotlib.figure.Figure at 0x117155390>"
      ]
     },
     "metadata": {},
     "output_type": "display_data"
    }
   ],
   "source": [
    "\n",
    "import matplotlib.pyplot as plt\n",
    "\n",
    "plt.rcParams[\"figure.figsize\"] = [15,5]\n",
    "fig, ax = plt.subplots() \n",
    "\n",
    "ax.plot(stroopData.Congruent,'g')\n",
    "ax.plot(stroopData.Incongruent,'--r')\n",
    "\n",
    "ax.legend(frameon=False, loc=9, bbox_to_anchor=(0.5,-0.1), ncol = 4, prop={'size': 20})\n",
    "\n",
    "plt.xlabel('repeated measures design subjects', fontsize=16, color = 'blue')\n",
    "plt.ylabel('seconds', fontsize=16, color = 'blue')\n",
    "\n",
    "plt.show()"
   ]
  },
  {
   "cell_type": "markdown",
   "metadata": {},
   "source": [
    "Visualization indicates Incongruent times trend greater than Congruent times."
   ]
  },
  {
   "cell_type": "markdown",
   "metadata": {},
   "source": [
    "Udacity reviewer -  \n",
    "I see that you used Dependent t-test for this test, which is correct. But please have a section explicitly state that you are using dependent/paired t-test.  "
   ]
  },
  {
   "cell_type": "markdown",
   "metadata": {},
   "source": [
    "Using dependent/paired t-test. This is a within subject design, repeated measures design test.  Each subject exposed to Congruent and Incongruent test in random order.  "
   ]
  },
  {
   "cell_type": "markdown",
   "metadata": {},
   "source": [
    "Udacity reviewer -  \n",
    "Also please state the assumptions made by the test in terms of normality, sample size, why paired t-test.  \n",
    "Psychological experiments typicaly approximate a normal distribution.\n",
    "Our small sample size increses our margin of error, and increases the range of out Confidence Level. \n",
    "<br>  \n",
    "Why paired t-test?  \n",
    "Paired t test because this was a within subject design, repeated mesures design investigation.  Population paramters not known Z test not indicated."
   ]
  },
  {
   "cell_type": "code",
   "execution_count": 16,
   "metadata": {},
   "outputs": [
    {
     "name": "stdout",
     "output_type": "stream",
     "text": [
      "\n",
      "stroopData['Congruent'].mean() - 14.051125000000004\n",
      "stroopData['Incongruent'].mean() - 22.01591666666667\n",
      "\n",
      "t_numerator  - -7.964791666666665\n",
      "\n",
      "time_diff_std_dev - 4.864826910359056\n",
      "\n",
      "t_denominator - 0.9930286347783406\n",
      "\n",
      "t_statistic - -8.020706944109955\n"
     ]
    }
   ],
   "source": [
    "# Dependent t-test\n",
    "\n",
    "print(\"\\nstroopData['Congruent'].mean() - {}\".format(stroopData['Congruent'].mean()))\n",
    "print(\"stroopData['Incongruent'].mean() - {}\\n\".format(stroopData['Incongruent'].mean()))\n",
    "\n",
    "t_numerator = stroopData['Congruent'].mean() - stroopData['Incongruent'].mean()\n",
    "print(\"t_numerator  - {}\\n\".format(t_numerator ))\n",
    "\n",
    "stroopData['Con-Incon'] = stroopData.Congruent - stroopData.Incongruent\n",
    "time_diff_std_dev = stroopData['Con-Incon'].std()\n",
    "\n",
    "# print(stroopData.head()) # used for software development\n",
    "# print(stroopData.info()) # used for software development\n",
    "# RangeIndex: 24 entries, 0 to 23\n",
    "\n",
    "print(\"time_diff_std_dev - {}\\n\".format(time_diff_std_dev))\n",
    "\n",
    "t_denominator = ( time_diff_std_dev / math.sqrt(24) ) \n",
    "print(\"t_denominator - {}\\n\".format(t_denominator))\n",
    "\n",
    "t_statistic = t_numerator / t_denominator \n",
    "\n",
    "print(\"t_statistic - {}\".format(t_statistic))\n"
   ]
  },
  {
   "cell_type": "markdown",
   "metadata": {},
   "source": [
    "Large t statistic calculated from sample.  \n",
    "Large t statistic associated with longer Incongruent times.  \n",
    "Conclusion - reject the null hypothesis, H<sub>0</sub>  \n",
    "Conventional criteria indicates the result is significant.  \n",
    "It is unlikely, staistically unlikely the Incongruent longer times are due to random chance.  \n",
    "<br>\n",
    "t - critical value, (t table lookup), associated with a 95% Confidence Level  \n",
    "n - sample size = 24  \n",
    "Degrees of Freedom = 23  \n",
    "t - critical value 1.714  \n",
    "<br>\n",
    "margin of error = 1.714 (s / √n)    \n",
    "margin of error = 1.714 (4.86 / √24)  \n",
    "margin of error = 1.7   \n",
    "<br>\n",
    "x̄<sub>D</sub> -> -7.96  \n",
    "-7.96 - 1.7 = -9.66  \n",
    "-7.96 + 1.7 = -10.01; -6.26 \n",
    "Confidence Interval -> -9.66 ; -6.26  \n",
    "95% sure Congruent times between 6.26 and 9.66 seconds faster than Incongruent times.  \n",
    "<br>\n",
    "Calculate p value  \n",
    "http://vassarstats.net/tabs.html  \n",
    "t = -8.02, df 23\n",
    "P one-tailed <0.0001\n",
    "<br>   \n",
    "https://www.graphpad.com/quickcalcs/pValue2/  \n",
    "t=-8.0207069   DF=23  \n",
    "The two-tailed P value is less than 0.0001  \n",
    "By conventional criteria, this difference is considered to be extremely statistically   significant. \n",
    "p-value less than alpha level - reject null hypothesis \n",
    "<br>"
   ]
  },
  {
   "cell_type": "markdown",
   "metadata": {},
   "source": [
    "(6) Optional: What do you think is responsible for the effects observed? Can you think of an alternative or similar task that would result in a similar effect? Some research about the problem will be helpful for thinking about these two questions!"
   ]
  },
  {
   "cell_type": "markdown",
   "metadata": {},
   "source": [
    "--write answer here--"
   ]
  }
 ],
 "metadata": {
  "kernelspec": {
   "display_name": "Python 3",
   "language": "python",
   "name": "python3"
  },
  "language_info": {
   "codemirror_mode": {
    "name": "ipython",
    "version": 3
   },
   "file_extension": ".py",
   "mimetype": "text/x-python",
   "name": "python",
   "nbconvert_exporter": "python",
   "pygments_lexer": "ipython3",
   "version": "3.6.3"
  }
 },
 "nbformat": 4,
 "nbformat_minor": 2
}
